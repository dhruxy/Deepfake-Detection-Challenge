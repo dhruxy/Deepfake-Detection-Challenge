{
 "cells": [
  {
   "cell_type": "code",
   "execution_count": 91,
   "id": "cf0b4bf9",
   "metadata": {},
   "outputs": [],
   "source": [
    "import pandas as pd \n",
    "df = pd.read_csv(\"../Focus/submission_40.csv\")"
   ]
  },
  {
   "cell_type": "code",
   "execution_count": 92,
   "id": "cb638c13",
   "metadata": {},
   "outputs": [
    {
     "name": "stdout",
     "output_type": "stream",
     "text": [
      "0.2712357461452484\n"
     ]
    }
   ],
   "source": [
    "print(df['label'][0])"
   ]
  },
  {
   "cell_type": "code",
   "execution_count": 93,
   "id": "7ddf9dfe",
   "metadata": {},
   "outputs": [
    {
     "name": "stderr",
     "output_type": "stream",
     "text": [
      "C:\\Users\\dhruv\\Projects\\Tensorflow object detection\\TFODCourse\\tfod\\lib\\site-packages\\ipykernel_launcher.py:5: SettingWithCopyWarning: \n",
      "A value is trying to be set on a copy of a slice from a DataFrame\n",
      "\n",
      "See the caveats in the documentation: https://pandas.pydata.org/pandas-docs/stable/user_guide/indexing.html#returning-a-view-versus-a-copy\n",
      "  \"\"\"\n",
      "C:\\Users\\dhruv\\Projects\\Tensorflow object detection\\TFODCourse\\tfod\\lib\\site-packages\\ipykernel_launcher.py:3: SettingWithCopyWarning: \n",
      "A value is trying to be set on a copy of a slice from a DataFrame\n",
      "\n",
      "See the caveats in the documentation: https://pandas.pydata.org/pandas-docs/stable/user_guide/indexing.html#returning-a-view-versus-a-copy\n",
      "  This is separate from the ipykernel package so we can avoid doing imports until\n"
     ]
    }
   ],
   "source": [
    "for i in range(518):\n",
    "    if (df['label'][i] > 0.65):\n",
    "        df['label'][i] = 0\n",
    "    else:\n",
    "        df['label'][i] = 1"
   ]
  },
  {
   "cell_type": "code",
   "execution_count": 94,
   "id": "be6d9a58",
   "metadata": {},
   "outputs": [],
   "source": [
    "df['label'] = df['label'].astype(int)\n",
    "ids  = df['filename']\n",
    "label = df['label']"
   ]
  },
  {
   "cell_type": "code",
   "execution_count": 95,
   "id": "9faefe12",
   "metadata": {},
   "outputs": [],
   "source": [
    "list_of_tuples = list(zip(ids, label)) \n",
    "df2 = pd.DataFrame(list_of_tuples, columns = ['id', 'label']) "
   ]
  },
  {
   "cell_type": "code",
   "execution_count": 96,
   "id": "016c06f9",
   "metadata": {},
   "outputs": [],
   "source": [
    "df2.to_csv('../Focus/submission_42.csv',index=False)"
   ]
  },
  {
   "cell_type": "code",
   "execution_count": 97,
   "id": "d3c68608",
   "metadata": {},
   "outputs": [
    {
     "data": {
      "text/html": [
       "<div>\n",
       "<style scoped>\n",
       "    .dataframe tbody tr th:only-of-type {\n",
       "        vertical-align: middle;\n",
       "    }\n",
       "\n",
       "    .dataframe tbody tr th {\n",
       "        vertical-align: top;\n",
       "    }\n",
       "\n",
       "    .dataframe thead th {\n",
       "        text-align: right;\n",
       "    }\n",
       "</style>\n",
       "<table border=\"1\" class=\"dataframe\">\n",
       "  <thead>\n",
       "    <tr style=\"text-align: right;\">\n",
       "      <th></th>\n",
       "      <th>id</th>\n",
       "      <th>label</th>\n",
       "    </tr>\n",
       "  </thead>\n",
       "  <tbody>\n",
       "    <tr>\n",
       "      <th>0</th>\n",
       "      <td>00011.mp4</td>\n",
       "      <td>1</td>\n",
       "    </tr>\n",
       "    <tr>\n",
       "      <th>1</th>\n",
       "      <td>00021.mp4</td>\n",
       "      <td>1</td>\n",
       "    </tr>\n",
       "    <tr>\n",
       "      <th>2</th>\n",
       "      <td>00023.mp4</td>\n",
       "      <td>1</td>\n",
       "    </tr>\n",
       "    <tr>\n",
       "      <th>3</th>\n",
       "      <td>00024.mp4</td>\n",
       "      <td>1</td>\n",
       "    </tr>\n",
       "    <tr>\n",
       "      <th>4</th>\n",
       "      <td>00036.mp4</td>\n",
       "      <td>1</td>\n",
       "    </tr>\n",
       "    <tr>\n",
       "      <th>...</th>\n",
       "      <td>...</td>\n",
       "      <td>...</td>\n",
       "    </tr>\n",
       "    <tr>\n",
       "      <th>513</th>\n",
       "      <td>id9_id2_0008.mp4</td>\n",
       "      <td>0</td>\n",
       "    </tr>\n",
       "    <tr>\n",
       "      <th>514</th>\n",
       "      <td>id9_id3_0000.mp4</td>\n",
       "      <td>0</td>\n",
       "    </tr>\n",
       "    <tr>\n",
       "      <th>515</th>\n",
       "      <td>id9_id3_0009.mp4</td>\n",
       "      <td>1</td>\n",
       "    </tr>\n",
       "    <tr>\n",
       "      <th>516</th>\n",
       "      <td>id9_id6_0000.mp4</td>\n",
       "      <td>0</td>\n",
       "    </tr>\n",
       "    <tr>\n",
       "      <th>517</th>\n",
       "      <td>id9_id6_0005.mp4</td>\n",
       "      <td>1</td>\n",
       "    </tr>\n",
       "  </tbody>\n",
       "</table>\n",
       "<p>518 rows × 2 columns</p>\n",
       "</div>"
      ],
      "text/plain": [
       "                   id  label\n",
       "0           00011.mp4      1\n",
       "1           00021.mp4      1\n",
       "2           00023.mp4      1\n",
       "3           00024.mp4      1\n",
       "4           00036.mp4      1\n",
       "..                ...    ...\n",
       "513  id9_id2_0008.mp4      0\n",
       "514  id9_id3_0000.mp4      0\n",
       "515  id9_id3_0009.mp4      1\n",
       "516  id9_id6_0000.mp4      0\n",
       "517  id9_id6_0005.mp4      1\n",
       "\n",
       "[518 rows x 2 columns]"
      ]
     },
     "execution_count": 97,
     "metadata": {},
     "output_type": "execute_result"
    }
   ],
   "source": [
    "df2"
   ]
  },
  {
   "cell_type": "code",
   "execution_count": null,
   "id": "f70b3bf2",
   "metadata": {},
   "outputs": [],
   "source": []
  },
  {
   "cell_type": "code",
   "execution_count": null,
   "id": "31a0cd9e",
   "metadata": {},
   "outputs": [],
   "source": []
  }
 ],
 "metadata": {
  "kernelspec": {
   "display_name": "tfod",
   "language": "python",
   "name": "tfod"
  },
  "language_info": {
   "codemirror_mode": {
    "name": "ipython",
    "version": 3
   },
   "file_extension": ".py",
   "mimetype": "text/x-python",
   "name": "python",
   "nbconvert_exporter": "python",
   "pygments_lexer": "ipython3",
   "version": "3.6.8"
  }
 },
 "nbformat": 4,
 "nbformat_minor": 5
}
